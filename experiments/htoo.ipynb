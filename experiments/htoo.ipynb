{
 "cells": [
  {
   "cell_type": "markdown",
   "metadata": {},
   "source": [
    "### Define which part you are developing\n",
    "\n",
    "- EDA for electricity dataset\n",
    "- Testing ARMIA model\n",
    "- Developing LinearRegression model etc."
   ]
  }
 ],
 "metadata": {
  "language_info": {
   "name": "python"
  }
 },
 "nbformat": 4,
 "nbformat_minor": 2
}
