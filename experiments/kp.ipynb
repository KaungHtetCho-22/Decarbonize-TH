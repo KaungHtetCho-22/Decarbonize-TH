{
 "cells": [
  {
   "cell_type": "markdown",
   "metadata": {},
   "source": [
    "### Define which part are you developing\n",
    "\n",
    "- EDA for electricity dataset\n",
    "- Testing ARMIA model\n",
    "- Developing LinearRegression model etc."
   ]
  }
 ],
 "metadata": {
  "language_info": {
   "name": "python"
  }
 },
 "nbformat": 4,
 "nbformat_minor": 2
}
